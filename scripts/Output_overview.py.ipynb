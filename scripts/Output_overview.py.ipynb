{
 "cells": [
  {
   "cell_type": "markdown",
   "id": "010cbf0a-8e5e-4e46-945e-8032e46232db",
   "metadata": {},
   "source": [
    "# TinoPai Output Visualisation Example\n",
    "\n",
    "This notebook is a modification of the default notebook in the KAPy workflow. \n",
    "Note in particular that we have modified the working directories in the next \n",
    "block. However, this notebook or script could essentially be any custom processing \n",
    "script used to generate reports or outputs."
   ]
  },
  {
   "cell_type": "code",
   "execution_count": 1,
   "id": "6c69d6ec-a1c5-4995-a7b4-d7364ecf123a",
   "metadata": {
    "tags": []
   },
   "outputs": [],
   "source": [
    "#First set the working directory correctly. Everything is KAPy is relative to the project / repo root directly. Ideally, this could be handled via\n",
    "#the options to run the jupyter notebook, but that doesn't seem to be possible. Instead we force the wd relative to this file\n",
    "import os\n",
    "os.chdir(\"..\")\n",
    "#Also need to make sure that KAPy can be read from the workflow directory\n",
    "import sys\n",
    "sys.path.append('KAPy/workflow')"
   ]
  },
  {
   "cell_type": "code",
   "execution_count": 2,
   "id": "1c3304f1-307f-4ba6-8c6d-8cd8a616b187",
   "metadata": {
    "tags": []
   },
   "outputs": [],
   "source": [
    "#Import other libraries\n",
    "import KAPy\n",
    "import IPython.display \n",
    "import pandas as pd\n",
    "import os\n",
    "import yaml"
   ]
  },
  {
   "cell_type": "code",
   "execution_count": 3,
   "id": "8d3cef5b-7b05-493f-a12d-b648a05e0c40",
   "metadata": {
    "tags": []
   },
   "outputs": [],
   "source": [
    "#Load configuration and workflow\n",
    "#We assert that the config file has been validated and is ok. This\n",
    "#may not hold, however, if json-schema defaults are being used - a good\n",
    "#reason to avoid this behaviour\n",
    "config=KAPy.loadConfig()\n",
    "#Now get the workflow\n",
    "wf=KAPy.getWorkflow(config)\n"
   ]
  },
  {
   "cell_type": "code",
   "execution_count": 23,
   "id": "82cffdcb-a510-4e12-be59-5459e5d34cef",
   "metadata": {
    "tags": []
   },
   "outputs": [],
   "source": [
    "#Get the list of potential inputs that can be used out of the workflow. Specifically, this is the ensstats netcdf files, and the areal stats.\n",
    "#We don't consider other combinations at the moment\n",
    "def makeInputDict(d):\n",
    "    inpTbl=pd.DataFrame(list(d.keys()),columns=['path'])\n",
    "    inpTbl['fname']=[os.path.basename(f) for f in inpTbl['path']]\n",
    "    inpTbl['indId']=inpTbl['fname'].str.extract(\"^(.*?)_.*$\")\n",
    "    inpTbl['indSrc']=inpTbl['fname'].str.extract(\"^.*?_(.*?)_.*$\")\n",
    "    inpTbl['indScen']=inpTbl['fname'].str.extract(\"^.*?_.*?_(.*?)_.*$\")\n",
    "    inpDict=inpTbl.groupby('indId').apply(lambda x:list(x['path']),include_groups=False).to_dict()\n",
    "    return(inpDict)\n",
    "\n",
    "asDict=makeInputDict(wf['arealstats'])\n",
    "ensDict=makeInputDict(wf['ensstats'])"
   ]
  },
  {
   "cell_type": "code",
   "execution_count": 8,
   "id": "645753f1-662b-4155-9b32-8c4a652e3ebc",
   "metadata": {
    "tags": []
   },
   "outputs": [
    {
     "data": {
      "text/markdown": [
       "## Indicator 101 - Annual mean temperature"
      ],
      "text/plain": [
       "<IPython.core.display.Markdown object>"
      ]
     },
     "metadata": {},
     "output_type": "display_data"
    },
    {
     "ename": "KeyError",
     "evalue": "'101'",
     "output_type": "error",
     "traceback": [
      "\u001b[0;31m---------------------------------------------------------------------------\u001b[0m",
      "\u001b[0;31mKeyError\u001b[0m                                  Traceback (most recent call last)",
      "Cell \u001b[0;32mIn[8], line 11\u001b[0m\n\u001b[1;32m      6\u001b[0m \u001b[38;5;66;03m#But what should we plot? It depends on the nature of the indicator\u001b[39;00m\n\u001b[1;32m      7\u001b[0m \u001b[38;5;66;03m# * Period-based indicators should plot the spatial map and the plots\u001b[39;00m\n\u001b[1;32m      8\u001b[0m \u001b[38;5;66;03m# * Yearly (or monthly) based indicators show a time series\u001b[39;00m\n\u001b[1;32m      9\u001b[0m \u001b[38;5;28;01mif\u001b[39;00m thisInd[\u001b[38;5;124m'\u001b[39m\u001b[38;5;124mtime_binning\u001b[39m\u001b[38;5;124m'\u001b[39m]\u001b[38;5;241m==\u001b[39m\u001b[38;5;124m\"\u001b[39m\u001b[38;5;124mperiods\u001b[39m\u001b[38;5;124m\"\u001b[39m:\n\u001b[1;32m     10\u001b[0m     \u001b[38;5;66;03m#Box plot\u001b[39;00m\n\u001b[0;32m---> 11\u001b[0m     bxpFiles\u001b[38;5;241m=\u001b[39m\u001b[43masDict\u001b[49m\u001b[43m[\u001b[49m\u001b[38;5;28;43mstr\u001b[39;49m\u001b[43m(\u001b[49m\u001b[43mthisInd\u001b[49m\u001b[43m[\u001b[49m\u001b[38;5;124;43m'\u001b[39;49m\u001b[38;5;124;43mid\u001b[39;49m\u001b[38;5;124;43m'\u001b[39;49m\u001b[43m]\u001b[49m\u001b[43m)\u001b[49m\u001b[43m]\u001b[49m\n\u001b[1;32m     12\u001b[0m     p\u001b[38;5;241m=\u001b[39mKAPy\u001b[38;5;241m.\u001b[39mmakeBoxplot(config,thisInd,bxpFiles)\n\u001b[1;32m     13\u001b[0m     p\u001b[38;5;241m.\u001b[39mshow()\n",
      "\u001b[0;31mKeyError\u001b[0m: '101'"
     ]
    }
   ],
   "source": [
    "#Loop over available indicators to make plots\n",
    "for thisInd in config['indicators'].values():\n",
    "    #Print the indicator name as a header\n",
    "    IPython.display.display(IPython.display.Markdown(f\"## Indicator {thisInd['id']} - {thisInd['name']}\"))\n",
    "   \n",
    "    #But what should we plot? It depends on the nature of the indicator\n",
    "    # * Period-based indicators should plot the spatial map and the plots\n",
    "    # * Yearly (or monthly) based indicators show a time series\n",
    "    if thisInd['time_binning']==\"periods\":\n",
    "        #Box plot\n",
    "        bxpFiles=asDict[str(thisInd['id'])]\n",
    "        p=KAPy.makeBoxplot(config,thisInd,bxpFiles)\n",
    "        p.show()\n",
    "\n",
    "        #Spatial plot\n",
    "        spFiles=ensDict[str(thisInd['id'])]\n",
    "        p=KAPy.makeSpatialplot(config,thisInd,spFiles)\n",
    "        p.show()\n",
    "    \n",
    "    elif thisInd['time_binning'] in [\"years\",'months']:\n",
    "        #Time series plot\n",
    "        lpFiles=asDict[str(thisInd['id'])]\n",
    "        p=KAPy.makeLineplot(config,thisInd,lpFiles)\n",
    "        p.show()\n"
   ]
  }
 ],
 "metadata": {
  "kernelspec": {
   "display_name": "Python 3 (ipykernel)",
   "language": "python",
   "name": "python3"
  },
  "language_info": {
   "codemirror_mode": {
    "name": "ipython",
    "version": 3
   },
   "file_extension": ".py",
   "mimetype": "text/x-python",
   "name": "python",
   "nbconvert_exporter": "python",
   "pygments_lexer": "ipython3",
   "version": "3.10.11"
  }
 },
 "nbformat": 4,
 "nbformat_minor": 5
}
